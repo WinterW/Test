{
 "cells": [
  {
   "cell_type": "code",
   "execution_count": 1,
   "metadata": {
    "collapsed": false
   },
   "outputs": [
    {
     "data": {
      "image/png": "[encoded data removed]",
      "text/plain": [
       "<matplotlib.figure.Figure at 0x43469e8>"
      ]
     },
     "metadata": {},
     "output_type": "display_data"
    }
   ],
   "source": [
    "#原始数据\n",
    "import numpy as np\n",
    "import matplotlib.pyplot as plt\n",
    "t = (1,3,2)\n",
    "# red dashes, blue squares and green triangles\n",
    "#plt.plot(t, t, 'r--', t, t**2, 'bs', t, t**3, 'g^')\n",
    "x1=[0.5,1,2,3,1,1.3,1.1,1.2,1.5,1.4,1.5,1.1,1.2,1.3,2.8,0.7,0.5,1,1.2,1.7,2.3,1.2,1.75,1.6,1.2]\n",
    "y1=[2.6,3.1,4.1,5.1,3.2,3.3,3.4,3.5,3.6,3.9,4,3.3,3.5,3.4,4.5,2.9,2,3.5,4,3.9,4.7,2.9,3.77,2.9,2.3]\n",
    "x2=[1,1.5,1.5,1.5,1.25, 1.1]\n",
    "y2=[2.3,3.4,2.3,2.9,2.8,2.9]\n",
    "plt.plot(x1,y1,'ro', x2,y2, 'bo')\n",
    "#plt.show()\n",
    "plt.plot([1,2,3, 4]) #plot默认参数为y的值，\n",
    "plt.plot([2,3,4,5]) #plot默认参数为y的值，\n",
    "plt.show()"
   ]
  },
  {
   "cell_type": "code",
   "execution_count": null,
   "metadata": {
    "collapsed": true
   },
   "outputs": [],
   "source": [
    "#采样\n",
    "import numpy as np\n",
    "import matplotlib.pyplot as plt\n",
    "t = (1,3,2)\n",
    "# red dashes, blue squares and green triangles\n",
    "#plt.plot(t, t, 'r--', t, t**2, 'bs', t, t**3, 'g^')\n",
    "x1=[0.5,1,2,1.5,1.1,1.3,0.7,1.2,2.3,1.75,1.6]\n",
    "y1=[2.6,3.1,4.1,3.9,3.5,3.4,3.5,4,4.7,3.77,2.9]\n",
    "x2=[1,1.5,1.5,1.5,1.25, 1.1]\n",
    "y2=[2.3,3.4,2.3,2.9,2.8,2.9]\n",
    "plt.plot(x1,y1,'ro', x2,y2, 'bo')\n",
    "#plt.show()\n",
    "plt.plot([1,2,3, 4]) #plot默认参数为y的值，\n",
    "plt.plot([2,3,4,5]) #plot默认参数为y的值，\n",
    "plt.show()"
   ]
  },
  {
   "cell_type": "code",
   "execution_count": null,
   "metadata": {
    "collapsed": true
   },
   "outputs": [],
   "source": [
    "#插值\n",
    "import numpy as np\n",
    "import matplotlib.pyplot as plt\n",
    "t = (1,3,2)\n",
    "# red dashes, blue squares and green triangles\n",
    "#plt.plot(t, t, 'r--', t, t**2, 'bs', t, t**3, 'g^')\n",
    "x1=[0.5,1,2,3,1,1.3,1.1,1.2,1.5,1.4,1.5,1.1,1.2,1.3,2.8,0.7,0.5,1,1.2,1.7,2.3,1.2,1.75,1.6,1.2]\n",
    "y1=[2.6,3.1,4.1,5.1,3.2,3.3,3.4,3.5,3.6,3.9,4,3.3,3.5,3.4,4.5,2.9,2,3.5,4,3.9,4.7,2.9,3.77,2.9,2.3]\n",
    "x2=[1,1.5,1.5,1.5,1.25, 1.1, 1.4, 1.3, 1.1, 1.4, 1.2, 1.25]\n",
    "y2=[2.3,3.4,2.3,2.9,2.8,2.9, 2.7, 2.9,2.4, 2.4, 2.5, 3.1]\n",
    "plt.plot(x1,y1,'ro', x2,y2, 'bo')\n",
    "#plt.show()\n",
    "plt.plot([1,2,3, 4]) #plot默认参数为y的值，\n",
    "plt.plot([2,3,4,5]) #plot默认参数为y的值，\n",
    "plt.show()"
   ]
  }
 ],
 "metadata": {
  "kernelspec": {
   "display_name": "Python [default]",
   "language": "python",
   "name": "python2"
  },
  "language_info": {
   "codemirror_mode": {
    "name": "ipython",
    "version": 2
   },
   "file_extension": ".py",
   "mimetype": "text/x-python",
   "name": "python",
   "nbconvert_exporter": "python",
   "pygments_lexer": "ipython2",
   "version": "2.7.13"
  }
 },
 "nbformat": 4,
 "nbformat_minor": 2
}
